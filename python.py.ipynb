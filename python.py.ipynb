{
 "cells": [
  {
   "cell_type": "markdown",
   "id": "87d52d6e",
   "metadata": {},
   "source": [
    "# NUMBER SYSTEM USING MNIST"
   ]
  },
  {
   "cell_type": "code",
   "execution_count": 1,
   "id": "228f0385",
   "metadata": {},
   "outputs": [
    {
     "name": "stdout",
     "output_type": "stream",
     "text": [
      "pygame 2.4.0 (SDL 2.26.4, Python 3.10.5)\n",
      "Hello from the pygame community. https://www.pygame.org/contribute.html\n"
     ]
    }
   ],
   "source": [
    "import pygame, sys\n",
    "from pygame.locals import *\n",
    "import numpy as np\n",
    "from keras.models import load_model\n",
    "import cv2\n",
    "\n"
   ]
  },
  {
   "cell_type": "code",
   "execution_count": 2,
   "id": "fdf7b318",
   "metadata": {},
   "outputs": [],
   "source": [
    "WINDOWSIZEX=640\n",
    "WINDOWSIZEY=480"
   ]
  },
  {
   "cell_type": "code",
   "execution_count": 3,
   "id": "b106f684",
   "metadata": {},
   "outputs": [],
   "source": [
    "BOUNDRYINC = 5"
   ]
  },
  {
   "cell_type": "code",
   "execution_count": 4,
   "id": "ba274692",
   "metadata": {},
   "outputs": [],
   "source": [
    "WHITE = (255,255,255)\n",
    "BLACK = (0,0,0)\n",
    "RED = (255,0,0)\n"
   ]
  },
  {
   "cell_type": "code",
   "execution_count": 5,
   "id": "3c52b4a3",
   "metadata": {},
   "outputs": [],
   "source": [
    "IMAGESAVE = False"
   ]
  },
  {
   "cell_type": "code",
   "execution_count": 6,
   "id": "cd27924c",
   "metadata": {},
   "outputs": [],
   "source": [
    "MODEL = load_model(\"bestmodel.h5\")"
   ]
  },
  {
   "cell_type": "code",
   "execution_count": 7,
   "id": "10fce53a",
   "metadata": {},
   "outputs": [],
   "source": [
    "LABELS = {0:\"Zero\", 1:\"One\",\n",
    "         2:\"Two\", 3:\"Three\",\n",
    "         4:\"Four\", 5:\"Five\",\n",
    "         6:\"Six\", 7:\"Seven\",\n",
    "         8:\"Eight\", 9:\"Nine\"}"
   ]
  },
  {
   "cell_type": "code",
   "execution_count": 8,
   "id": "ee93131a",
   "metadata": {},
   "outputs": [
    {
     "data": {
      "text/plain": [
       "(5, 0)"
      ]
     },
     "execution_count": 8,
     "metadata": {},
     "output_type": "execute_result"
    }
   ],
   "source": [
    "pygame.init()"
   ]
  },
  {
   "cell_type": "code",
   "execution_count": 9,
   "id": "e03a2e86",
   "metadata": {},
   "outputs": [],
   "source": [
    "DISPLAYSURF = pygame.display.set_mode((WINDOWSIZEX,WINDOWSIZEY))"
   ]
  },
  {
   "cell_type": "code",
   "execution_count": 10,
   "id": "7168ddde",
   "metadata": {},
   "outputs": [],
   "source": [
    "FONT = pygame.font.SysFont(\"freesansbold.tff\", 18)"
   ]
  },
  {
   "cell_type": "code",
   "execution_count": 11,
   "id": "a04c578e",
   "metadata": {},
   "outputs": [],
   "source": [
    "pygame.display.set_caption(\"Digit Board\")"
   ]
  },
  {
   "cell_type": "code",
   "execution_count": 12,
   "id": "07eb8444",
   "metadata": {},
   "outputs": [],
   "source": [
    "iswriting = False"
   ]
  },
  {
   "cell_type": "code",
   "execution_count": 13,
   "id": "556d1133",
   "metadata": {},
   "outputs": [],
   "source": [
    "number_xcord = []\n",
    "number_ycord = []"
   ]
  },
  {
   "cell_type": "code",
   "execution_count": 14,
   "id": "b28dce65",
   "metadata": {},
   "outputs": [],
   "source": [
    "image_cnt = 1"
   ]
  },
  {
   "cell_type": "code",
   "execution_count": 15,
   "id": "fc491764",
   "metadata": {},
   "outputs": [],
   "source": [
    "PREDICT = True"
   ]
  },
  {
   "cell_type": "code",
   "execution_count": null,
   "id": "25cb36d1",
   "metadata": {
    "scrolled": false
   },
   "outputs": [
    {
     "name": "stdout",
     "output_type": "stream",
     "text": [
      "1/1 [==============================] - 3s 3s/step\n",
      "1/1 [==============================] - 0s 144ms/step\n",
      "1/1 [==============================] - 0s 89ms/step\n",
      "1/1 [==============================] - 0s 234ms/step\n",
      "1/1 [==============================] - 1s 609ms/step\n",
      "1/1 [==============================] - 0s 113ms/step\n",
      "1/1 [==============================] - 0s 92ms/step\n"
     ]
    }
   ],
   "source": [
    "while True:\n",
    "    for event in pygame.event.get():\n",
    "        if event.type == QUIT:\n",
    "            pygame.quit()\n",
    "            sys.exit()\n",
    "            \n",
    "        if event.type == MOUSEMOTION and iswriting:\n",
    "            xcord, ycord = event.pos\n",
    "            pygame.draw.circle(DISPLAYSURF, WHITE,(xcord, ycord), 4, 0)\n",
    "            \n",
    "            number_xcord.append(xcord)\n",
    "            number_ycord.append(ycord)\n",
    "            \n",
    "        if event.type == MOUSEBUTTONDOWN:\n",
    "            iswriting = True\n",
    "            \n",
    "        if event.type == MOUSEBUTTONUP:\n",
    "            iswriting = False\n",
    "            number_xcord = sorted(number_xcord)\n",
    "            number_ycord = sorted(number_ycord)\n",
    "            \n",
    "            rect_min_x , rect_max_x = max(number_xcord[0]-BOUNDRYINC, 0 ), min(WINDOWSIZEX, number_xcord[-1]+BOUNDRYINC)\n",
    "            rect_min_Y , rect_max_Y = max(number_ycord[0]-BOUNDRYINC, 0 ), min(WINDOWSIZEY,number_ycord[-1]+BOUNDRYINC, WINDOWSIZEX)\n",
    "            \n",
    "            img_arr = np.array(pygame.PixelArray(DISPLAYSURF))[\n",
    "                rect_min_x:rect_max_x, rect_min_Y:rect_max_Y].T.astype(np.float32)\n",
    "            \n",
    "            if IMAGESAVE:\n",
    "                cv2.imwrite(\"image.png\")\n",
    "                image_cnt +=1\n",
    "                \n",
    "            if PREDICT:\n",
    "                image = cv2.resize(img_arr, (28,28))\n",
    "                image = np.pad(image, (10,10), 'constant', constant_values = 0 )\n",
    "                image = cv2.resize(image, (28,28))/255\n",
    "                \n",
    "                label = str(LABELS[np.argmax(MODEL.predict(image.reshape(1,28,28,1)))])\n",
    "                \n",
    "                textSurface = FONT.render(label, True, RED, WHITE)\n",
    "                textRecObj = textSurface.get_rect()\n",
    "                textRecObj.left , textRecObj.bottom = rect_min_x, rect_max_Y\n",
    "                \n",
    "                DISPLAYSURF.blit(textSurface, textRecObj)\n",
    "                \n",
    "            if event.type == KEYDOWN:\n",
    "                if event.unicode == \"n\":\n",
    "                    DISPLAYSURF.fill(BLACK)\n",
    "                    \n",
    "        pygame.display.update()"
   ]
  },
  {
   "cell_type": "code",
   "execution_count": null,
   "id": "efb6ce3f",
   "metadata": {},
   "outputs": [],
   "source": []
  }
 ],
 "metadata": {
  "kernelspec": {
   "display_name": "Python 3 (ipykernel)",
   "language": "python",
   "name": "python3"
  },
  "language_info": {
   "codemirror_mode": {
    "name": "ipython",
    "version": 3
   },
   "file_extension": ".py",
   "mimetype": "text/x-python",
   "name": "python",
   "nbconvert_exporter": "python",
   "pygments_lexer": "ipython3",
   "version": "3.10.5"
  }
 },
 "nbformat": 4,
 "nbformat_minor": 5
}
